{
 "cells": [
  {
   "cell_type": "markdown",
   "metadata": {},
   "source": [
    "# KATA 06\n",
    "### Ejercicio 1"
   ]
  },
  {
   "cell_type": "code",
   "execution_count": 4,
   "metadata": {},
   "outputs": [
    {
     "name": "stdout",
     "output_type": "stream",
     "text": [
      "['Mercury', 'Venus', 'Earth', 'Mars', 'Jupiter', 'Saturn', 'Neptune']\n",
      "El ultimo planeta es Pluto\n",
      "Total de planetas  8\n"
     ]
    }
   ],
   "source": [
    "\n",
    "planets = ['Mercury', 'Venus', 'Earth', 'Mars', 'Jupiter', 'Saturn', 'Neptune']\n",
    "print(planets)\n",
    "planets.append('Pluto')\n",
    "numerodeplanets = len(planets)\n",
    "print(\"El ultimo planeta es\", planets[-1])\n",
    "print(\"Total de planetas \", numerodeplanets)"
   ]
  },
  {
   "cell_type": "markdown",
   "metadata": {},
   "source": [
    "### Ejercicio 02\n"
   ]
  },
  {
   "cell_type": "code",
   "execution_count": 17,
   "metadata": {},
   "outputs": [
    {
     "name": "stdout",
     "output_type": "stream",
     "text": [
      "Los planetas mas cercanos son Jupiter y Mars\n"
     ]
    },
    {
     "ename": "IndexError",
     "evalue": "list index out of range",
     "output_type": "error",
     "traceback": [
      "\u001b[1;31m---------------------------------------------------------------------------\u001b[0m",
      "\u001b[1;31mIndexError\u001b[0m                                Traceback (most recent call last)",
      "\u001b[1;32mc:\\Users\\MoneyMakerMachine\\Documents\\LAUNCH_X\\MISION_UNO\\kata06.ipynb Cell 4'\u001b[0m in \u001b[0;36m<module>\u001b[1;34m\u001b[0m\n\u001b[0;32m      <a href='vscode-notebook-cell:/c%3A/Users/MoneyMakerMachine/Documents/LAUNCH_X/MISION_UNO/kata06.ipynb#ch0000003?line=1'>2</a>\u001b[0m intro \u001b[39m=\u001b[39m planets\u001b[39m.\u001b[39mindex(planeta)\n\u001b[0;32m      <a href='vscode-notebook-cell:/c%3A/Users/MoneyMakerMachine/Documents/LAUNCH_X/MISION_UNO/kata06.ipynb#ch0000003?line=2'>3</a>\u001b[0m \u001b[39mprint\u001b[39m(\u001b[39m'\u001b[39m\u001b[39mLos planetas mas cercanos son\u001b[39m\u001b[39m'\u001b[39m, planets[intro \u001b[39m-\u001b[39m\u001b[39m1\u001b[39m], \u001b[39m'\u001b[39m\u001b[39my\u001b[39m\u001b[39m'\u001b[39m, planets[intro \u001b[39m-\u001b[39m \u001b[39m2\u001b[39m])\n\u001b[1;32m----> <a href='vscode-notebook-cell:/c%3A/Users/MoneyMakerMachine/Documents/LAUNCH_X/MISION_UNO/kata06.ipynb#ch0000003?line=3'>4</a>\u001b[0m \u001b[39mprint\u001b[39m(\u001b[39m'\u001b[39m\u001b[39mLos planetas mas lejanos son\u001b[39m\u001b[39m'\u001b[39m, planets[intro \u001b[39m+\u001b[39m\u001b[39m1\u001b[39m], \u001b[39m'\u001b[39m\u001b[39my\u001b[39m\u001b[39m'\u001b[39m, planets[intro \u001b[39m+\u001b[39;49m \u001b[39m2\u001b[39;49m])\n",
      "\u001b[1;31mIndexError\u001b[0m: list index out of range"
     ]
    }
   ],
   "source": [
    "planeta = input(\"Introduce el nombre de un planeta iniciando con mayuscula\")\n",
    "intro = planets.index(planeta)\n",
    "\n",
    "print('Los planetas mas cercanos son', planets[intro -1], 'y', planets[intro - 2])\n",
    "print('Los planetas mas lejanos son', planets[intro +1], 'y', planets[intro + 2])\n"
   ]
  }
 ],
 "metadata": {
  "interpreter": {
   "hash": "a01fa71aa6eb0f0af31785e564dc4e8e6e300aa85bfb429346e81c7499c85312"
  },
  "kernelspec": {
   "display_name": "Python 3.10.2 64-bit",
   "language": "python",
   "name": "python3"
  },
  "language_info": {
   "codemirror_mode": {
    "name": "ipython",
    "version": 3
   },
   "file_extension": ".py",
   "mimetype": "text/x-python",
   "name": "python",
   "nbconvert_exporter": "python",
   "pygments_lexer": "ipython3",
   "version": "3.10.2"
  },
  "orig_nbformat": 4
 },
 "nbformat": 4,
 "nbformat_minor": 2
}
