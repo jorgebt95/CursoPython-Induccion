{
 "cells": [
  {
   "cell_type": "markdown",
   "metadata": {},
   "source": [
    "## KATA 05\n",
    "### Ejercicio 01"
   ]
  },
  {
   "cell_type": "code",
   "execution_count": 8,
   "metadata": {},
   "outputs": [
    {
     "name": "stdout",
     "output_type": "stream",
     "text": [
      "628949330\n",
      "390577533.93\n"
     ]
    }
   ],
   "source": [
    "tierra = 149597870\n",
    "jupiter = 778547200\n",
    "distanciakm = jupiter - tierra\n",
    "print(distanciakm)\n",
    "\n",
    "distanciamiles = distanciakm * .621\n",
    "\n",
    "print(distanciamiles)"
   ]
  },
  {
   "cell_type": "markdown",
   "metadata": {},
   "source": [
    "### Ejercicio 02"
   ]
  },
  {
   "cell_type": "code",
   "execution_count": 12,
   "metadata": {},
   "outputs": [
    {
     "name": "stdout",
     "output_type": "stream",
     "text": [
      "0\n"
     ]
    }
   ],
   "source": [
    "planet_1 = int(input(\"¿Cual es el planeta 1?\"))\n",
    "planet_2 = int(input(\"¿Cuál es el planeta 2?\"))\n",
    "totalkm = planet_1 - planet_2\n",
    "print(abs(totalkm))\n",
    "totalmi = totalkm * .621\n",
    "print(abs(totalmi))\n",
    "\n",
    "# Convierte las cadenas de ambos planetas a números enteros\n",
    "#first_planet = int(first_planet)\n",
    "#second_planet = int(second_planet)"
   ]
  }
 ],
 "metadata": {
  "interpreter": {
   "hash": "a01fa71aa6eb0f0af31785e564dc4e8e6e300aa85bfb429346e81c7499c85312"
  },
  "kernelspec": {
   "display_name": "Python 3.10.2 64-bit",
   "language": "python",
   "name": "python3"
  },
  "language_info": {
   "codemirror_mode": {
    "name": "ipython",
    "version": 3
   },
   "file_extension": ".py",
   "mimetype": "text/x-python",
   "name": "python",
   "nbconvert_exporter": "python",
   "pygments_lexer": "ipython3",
   "version": "3.10.2"
  },
  "orig_nbformat": 4
 },
 "nbformat": 4,
 "nbformat_minor": 2
}
