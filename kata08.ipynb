{
 "cells": [
  {
   "cell_type": "markdown",
   "metadata": {},
   "source": [
    "# Kata 08\n",
    "### Ejercicio 01"
   ]
  },
  {
   "cell_type": "code",
   "execution_count": 9,
   "metadata": {},
   "outputs": [
    {
     "name": "stdout",
     "output_type": "stream",
     "text": [
      "Mars\n",
      "42\n",
      "Earth\n",
      "59\n",
      "{'planeta': 'Earth', 'number': '59', 'polar': 6752, 'equatorial': 6792}\n"
     ]
    },
    {
     "data": {
      "text/plain": [
       "6752"
      ]
     },
     "execution_count": 9,
     "metadata": {},
     "output_type": "execute_result"
    }
   ],
   "source": [
    "planet = {\n",
    "    'planeta': 'Mars',\n",
    "    'number':  42\n",
    "}\n",
    "print(planet.get('planeta'))\n",
    "print(planet.get('number'))\n",
    "## Mars 42\n",
    "planet['planeta'] = 'Earth'\n",
    "planet['number']='59'\n",
    "\n",
    "print(planet.get('planeta'))\n",
    "print(planet.get('number'))\n",
    "## Earth 59\n",
    "\n",
    "planet['polar']= 6752\n",
    "planet['equatorial']= 6792\n",
    "\n",
    "print(planet)\n",
    "\n"
   ]
  },
  {
   "cell_type": "code",
   "execution_count": 11,
   "metadata": {},
   "outputs": [
    {
     "name": "stdout",
     "output_type": "stream",
     "text": [
      "Earth\n"
     ]
    },
    {
     "data": {
      "text/plain": [
       "6752"
      ]
     },
     "execution_count": 11,
     "metadata": {},
     "output_type": "execute_result"
    }
   ],
   "source": [
    "print(planet['planeta'])\n",
    "planet['polar']"
   ]
  },
  {
   "cell_type": "markdown",
   "metadata": {},
   "source": [
    "## Ejercicio 02 Programacion dinamica con diccionarios"
   ]
  },
  {
   "cell_type": "code",
   "execution_count": 12,
   "metadata": {},
   "outputs": [
    {
     "name": "stdout",
     "output_type": "stream",
     "text": [
      "Hay un total de 214 en el sistema\n",
      "Hay un promedio de 214 lunas por planeta\n"
     ]
    }
   ],
   "source": [
    "planet_moons = {\n",
    "    'mercury': 0,\n",
    "    'venus': 0,\n",
    "    'earth': 1,\n",
    "    'mars': 2,\n",
    "    'jupiter': 79,\n",
    "    'saturn': 82,\n",
    "    'uranus': 27,\n",
    "    'neptune': 14,\n",
    "    'pluto': 5,\n",
    "    'haumea': 2,\n",
    "    'makemake': 1,\n",
    "    'eris': 1\n",
    "}\n",
    "\n",
    "total_moons = 0\n",
    "total_planets = 0\n",
    "for value in planet_moons.values():\n",
    "    total_moons = total_moons + value\n",
    "total_planets = len(planet_moons)\n",
    "promedio = total_moons / total_planets\n",
    "print(f'Hay un total de {total_moons} en el sistema')\n",
    "print(f'Hay un promedio de {total_moons} lunas por planeta')\n",
    "\n",
    "\n",
    "\n"
   ]
  }
 ],
 "metadata": {
  "interpreter": {
   "hash": "a01fa71aa6eb0f0af31785e564dc4e8e6e300aa85bfb429346e81c7499c85312"
  },
  "kernelspec": {
   "display_name": "Python 3.10.2 64-bit",
   "language": "python",
   "name": "python3"
  },
  "language_info": {
   "codemirror_mode": {
    "name": "ipython",
    "version": 3
   },
   "file_extension": ".py",
   "mimetype": "text/x-python",
   "name": "python",
   "nbconvert_exporter": "python",
   "pygments_lexer": "ipython3",
   "version": "3.10.2"
  },
  "orig_nbformat": 4
 },
 "nbformat": 4,
 "nbformat_minor": 2
}
